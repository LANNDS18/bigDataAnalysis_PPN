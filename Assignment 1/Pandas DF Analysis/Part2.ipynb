{
 "cells": [
  {
   "cell_type": "markdown",
   "metadata": {},
   "source": [
    "# Comp336 Assignment 1 Part 2 Report\n",
    "### Wuwei Zhang\n",
    "### 201522671\n",
    "#### In this part, I use jupyter notebook to write this report, and I use the following packages:"
   ]
  },
  {
   "cell_type": "code",
   "execution_count": 80,
   "metadata": {
    "pycharm": {
     "name": "#%%\n"
    }
   },
   "outputs": [],
   "source": [
    "import pandas as pd\n",
    "import matplotlib.pyplot as plt\n",
    "import numpy as np\n",
    "from kneed import KneeLocator\n",
    "from sklearn.decomposition import PCA"
   ]
  },
  {
   "cell_type": "markdown",
   "metadata": {
    "pycharm": {
     "name": "#%% md\n"
    }
   },
   "source": [
    "## Step1: Load CSV Data\n",
    "#### Successfully load the stock data by using pd.read_csv() and the information of the data set is shown below:"
   ]
  },
  {
   "cell_type": "code",
   "execution_count": 81,
   "metadata": {
    "pycharm": {
     "name": "#%%\n"
    }
   },
   "outputs": [
    {
     "name": "stdout",
     "output_type": "stream",
     "text": [
      "<class 'pandas.core.frame.DataFrame'>\n",
      "RangeIndex: 619040 entries, 0 to 619039\n",
      "Data columns (total 7 columns):\n",
      " #   Column  Non-Null Count   Dtype         \n",
      "---  ------  --------------   -----         \n",
      " 0   date    619040 non-null  datetime64[ns]\n",
      " 1   open    619029 non-null  float64       \n",
      " 2   high    619032 non-null  float64       \n",
      " 3   low     619032 non-null  float64       \n",
      " 4   close   619040 non-null  float64       \n",
      " 5   volume  619040 non-null  int64         \n",
      " 6   Name    619040 non-null  object        \n",
      "dtypes: datetime64[ns](1), float64(4), int64(1), object(1)\n",
      "memory usage: 33.1+ MB\n"
     ]
    }
   ],
   "source": [
    "df_stock = pd.read_csv('stock_data.csv')\n",
    "# Assign the data type to df\n",
    "df_stock[\"date\"] = df_stock[\"date\"].astype(dtype='datetime64')\n",
    "df_stock.info()"
   ]
  },
  {
   "cell_type": "markdown",
   "metadata": {},
   "source": [
    "## Step2: Remove Duplicate and Sort Name\n",
    "#### Remove the duplicate data by using the method drop_duplicates() and sort the name by using the method sort_values().\n",
    "#### The first five names and the last five names are shown below:"
   ]
  },
  {
   "cell_type": "code",
   "execution_count": 82,
   "metadata": {
    "pycharm": {
     "name": "#%%\n"
    }
   },
   "outputs": [
    {
     "name": "stdout",
     "output_type": "stream",
     "text": [
      "There are 505 unique names in this stock data set\n",
      "The first 5 names are: ['A', 'AAL', 'AAP', 'AAPL', 'ABBV'] and the last 5 names are: ['XYL', 'YUM', 'ZBH', 'ZION', 'ZTS']\n"
     ]
    }
   ],
   "source": [
    "distinct_name = sorted(df_stock['Name'].drop_duplicates())\n",
    "last_5_names = distinct_name[-5:]\n",
    "first_5_names = distinct_name[:5]\n",
    "print(f\"There are {len(distinct_name)} unique names in this stock data set\")\n",
    "print(f\"The first 5 names are: {first_5_names} and the last 5 names are: {last_5_names}\")"
   ]
  },
  {
   "cell_type": "markdown",
   "metadata": {
    "pycharm": {
     "name": "#%% md\n"
    }
   },
   "source": [
    "## Step3: Filter out all names\n",
    "#### First, I divide the data set into three parts: before 2014, between 2014 and 2017, and after 2017.\n",
    "#### Then, by using .dropduplicates() to remove the duplicate names in each part, we will to keep the names that are in all three parts.\n",
    "#### Therefore, names we want to remove are which appear in before 2014 or after 2017 but not in between 2014 and 2017.\n",
    "#### The number of names we want to remove, and the first and the last five names we want to keep are shown below:"
   ]
  },
  {
   "cell_type": "code",
   "execution_count": 83,
   "metadata": {
    "pycharm": {
     "name": "#%%\n"
    }
   },
   "outputs": [
    {
     "name": "stdout",
     "output_type": "stream",
     "text": [
      "There are 22 names will be removed and they are: ['APTV' 'BHF' 'BHGE' 'CFG' 'CSRA' 'DWDP' 'DXC' 'EVHC' 'FTV' 'GOOG' 'HLT'\n",
      " 'HPE' 'HPQ' 'INFO' 'KHC' 'NAVI' 'PYPL' 'QRVO' 'SYF' 'UA' 'WLTW' 'WRK']\n",
      "There are 483 names will be kept\n"
     ]
    }
   ],
   "source": [
    "df_before_2014 = df_stock[pd.to_datetime('1st Jan 2014') >= df_stock[\"date\"]]\n",
    "df_after_2017 = df_stock[pd.to_datetime('31st Dec 2017') <= df_stock[\"date\"]]\n",
    "df_between = df_stock[(df_stock.date > pd.to_datetime('1st Jan 2014'))\n",
    "                      & (df_stock.date < pd.to_datetime('31st Dec 2017'))]\n",
    "\n",
    "# All names that appears in the four year period\n",
    "names_between = df_between.Name.drop_duplicates()\n",
    "# All names that has \n",
    "names_before = df_before_2014.Name.drop_duplicates()\n",
    "names_after = df_after_2017.Name.drop_duplicates()\n",
    "# Remove names_between but not in names_before and names_after\n",
    "names_remove = names_between[(names_between.isin(names_before) == False)\n",
    "                             | (names_between.isin(names_after) == False)]\n",
    "names_filter = names_between[names_between.isin(names_remove) == False]\n",
    "print(f\"There are {len(names_remove)} names will be removed and they are: {names_remove.values}\")\n",
    "print(f\"There are {len(names_filter)} names will be kept\")"
   ]
  },
  {
   "cell_type": "markdown",
   "source": [
    "#### The number of rows of df_stock after removing the names is shown below:"
   ],
   "metadata": {
    "collapsed": false
   }
  },
  {
   "cell_type": "code",
   "execution_count": 84,
   "metadata": {
    "pycharm": {
     "name": "#%%\n"
    }
   },
   "outputs": [
    {
     "name": "stdout",
     "output_type": "stream",
     "text": [
      "The number of rows after filtering is:  607342\n"
     ]
    }
   ],
   "source": [
    "df_stock_filtered = df_stock[~df_stock.Name.isin(names_remove)]\n",
    "len(df_stock_filtered), len(df_stock)\n",
    "print('The number of rows after filtering is: ', len(df_stock_filtered))"
   ]
  },
  {
   "cell_type": "markdown",
   "metadata": {},
   "source": [
    "## Step4: Identify the set of dates that are common to all the remaining names\n",
    "#### Using the method .drop_duplicates() to remove the duplicate dates in the df_stock_filtered. Then, I removed the dates that are not in the range of 2014-2017.\n",
    "#### The first five dates and the last five dates are shown below:\n"
   ]
  },
  {
   "cell_type": "code",
   "execution_count": 85,
   "outputs": [
    {
     "name": "stdout",
     "output_type": "stream",
     "text": [
      "There are 1259 dates before applying filter and 994 dates in the filtered data set\n"
     ]
    }
   ],
   "source": [
    "# Calculate the date before filtering\n",
    "date_before_filter = df_stock_filtered.date.drop_duplicates()\n",
    "# Remove all the dates that are before 1st Jan 2014 or after 31st Dec 2017\n",
    "df_stock_filtered = df_stock_filtered[(df_stock_filtered.date >= pd.to_datetime('1st Jan 2014'))\n",
    "                                      & (df_stock_filtered.date <= pd.to_datetime('31st Dec 2017'))]\n",
    "# group each names's dates to list\n",
    "name_dates = df_stock_filtered.groupby('Name')['date'].apply(list)\n",
    "# name_dates\n",
    "common_dates = name_dates[0]  # begain form the first name_date list\n",
    "# accumulate to find all names' common dates:\n",
    "for k in range(1, len(name_dates)):\n",
    "    common_dates = set(common_dates).intersection(set(name_dates[k]))\n",
    "\n",
    "remove_dates = set(df_stock_filtered['date']).difference(set(common_dates))\n",
    "for date in remove_dates:\n",
    "    df_stock_filtered = df_stock_filtered.drop(df_stock_filtered[df_stock_filtered[\"date\"] == date].index)\n",
    "\n",
    "print(f\"There are {len(date_before_filter)} dates before applying filter and \"\n",
    "      f\"{len(df_stock_filtered['date'].drop_duplicates())} dates in the filtered data set\")"
   ],
   "metadata": {
    "collapsed": false,
    "pycharm": {
     "name": "#%%\n"
    }
   }
  },
  {
   "cell_type": "markdown",
   "metadata": {},
   "source": [
    "## Step5: Build a new pandas dataframe with the filtered data and the value is close price\n",
    "#### Using .pivot() to build a new dataframe with the filtered data and the value is close price."
   ]
  },
  {
   "cell_type": "code",
   "execution_count": 86,
   "metadata": {
    "pycharm": {
     "name": "#%%\n"
    }
   },
   "outputs": [
    {
     "name": "stdout",
     "output_type": "stream",
     "text": [
      "<class 'pandas.core.frame.DataFrame'>\n",
      "DatetimeIndex: 994 entries, 2014-01-02 to 2017-12-29\n",
      "Columns: 483 entries, A to ZTS\n",
      "dtypes: float64(483)\n",
      "memory usage: 3.7 MB\n"
     ]
    }
   ],
   "source": [
    "# df contain the “close” values for each corresponding name and date.\n",
    "df_all_close = df_stock_filtered.pivot(index='date', columns='Name', values='close')\n",
    "df_all_close.info()"
   ]
  },
  {
   "cell_type": "markdown",
   "source": [
    "#### The first five rows of the dataframe are shown below:"
   ],
   "metadata": {
    "collapsed": false
   }
  },
  {
   "cell_type": "code",
   "execution_count": 87,
   "metadata": {
    "pycharm": {
     "name": "#%%\n"
    }
   },
   "outputs": [
    {
     "data": {
      "text/plain": "Name            A     AAL     AAP     AAPL   ABBV    ABC    ABT    ACN   ADBE  \\\ndate                                                                            \n2014-01-02  56.21  25.360  109.74  79.0185  51.98  69.89  38.23  81.13  59.29   \n2014-01-03  56.92  26.540  112.88  77.2828  52.30  69.94  38.64  81.40  59.16   \n2014-01-06  56.64  27.030  111.80  77.7042  50.39  69.69  39.15  80.54  58.12   \n2014-01-07  57.45  26.905  113.18  77.1481  50.49  70.45  38.85  81.52  58.97   \n2014-01-08  58.39  27.630  112.30  77.6371  50.36  71.14  39.20  82.15  58.90   \n\nName          ADI  ...     XL   XLNX     XOM   XRAY    XRX    XYL    YUM  \\\ndate               ...                                                     \n2014-01-02  49.28  ...  31.25  45.97   99.75  47.96  47.64  34.16  75.09   \n2014-01-03  49.61  ...  30.81  45.62   99.51  48.19  47.96  34.47  75.56   \n2014-01-06  49.33  ...  30.37  45.42   99.66  47.90  48.36  34.41  75.50   \n2014-01-07  49.59  ...  30.37  45.52  101.07  48.64  48.76  34.51  76.56   \n2014-01-08  49.71  ...  30.39  45.91  100.74  48.73  48.32  34.49  76.53   \n\nName          ZBH   ZION    ZTS  \ndate                             \n2014-01-02  92.24  29.65  32.36  \n2014-01-03  92.64  29.86  32.05  \n2014-01-06  93.24  29.65  31.98  \n2014-01-07  95.10  29.74  32.10  \n2014-01-08  97.43  30.00  31.74  \n\n[5 rows x 483 columns]",
      "text/html": "<div>\n<style scoped>\n    .dataframe tbody tr th:only-of-type {\n        vertical-align: middle;\n    }\n\n    .dataframe tbody tr th {\n        vertical-align: top;\n    }\n\n    .dataframe thead th {\n        text-align: right;\n    }\n</style>\n<table border=\"1\" class=\"dataframe\">\n  <thead>\n    <tr style=\"text-align: right;\">\n      <th>Name</th>\n      <th>A</th>\n      <th>AAL</th>\n      <th>AAP</th>\n      <th>AAPL</th>\n      <th>ABBV</th>\n      <th>ABC</th>\n      <th>ABT</th>\n      <th>ACN</th>\n      <th>ADBE</th>\n      <th>ADI</th>\n      <th>...</th>\n      <th>XL</th>\n      <th>XLNX</th>\n      <th>XOM</th>\n      <th>XRAY</th>\n      <th>XRX</th>\n      <th>XYL</th>\n      <th>YUM</th>\n      <th>ZBH</th>\n      <th>ZION</th>\n      <th>ZTS</th>\n    </tr>\n    <tr>\n      <th>date</th>\n      <th></th>\n      <th></th>\n      <th></th>\n      <th></th>\n      <th></th>\n      <th></th>\n      <th></th>\n      <th></th>\n      <th></th>\n      <th></th>\n      <th></th>\n      <th></th>\n      <th></th>\n      <th></th>\n      <th></th>\n      <th></th>\n      <th></th>\n      <th></th>\n      <th></th>\n      <th></th>\n      <th></th>\n    </tr>\n  </thead>\n  <tbody>\n    <tr>\n      <th>2014-01-02</th>\n      <td>56.21</td>\n      <td>25.360</td>\n      <td>109.74</td>\n      <td>79.0185</td>\n      <td>51.98</td>\n      <td>69.89</td>\n      <td>38.23</td>\n      <td>81.13</td>\n      <td>59.29</td>\n      <td>49.28</td>\n      <td>...</td>\n      <td>31.25</td>\n      <td>45.97</td>\n      <td>99.75</td>\n      <td>47.96</td>\n      <td>47.64</td>\n      <td>34.16</td>\n      <td>75.09</td>\n      <td>92.24</td>\n      <td>29.65</td>\n      <td>32.36</td>\n    </tr>\n    <tr>\n      <th>2014-01-03</th>\n      <td>56.92</td>\n      <td>26.540</td>\n      <td>112.88</td>\n      <td>77.2828</td>\n      <td>52.30</td>\n      <td>69.94</td>\n      <td>38.64</td>\n      <td>81.40</td>\n      <td>59.16</td>\n      <td>49.61</td>\n      <td>...</td>\n      <td>30.81</td>\n      <td>45.62</td>\n      <td>99.51</td>\n      <td>48.19</td>\n      <td>47.96</td>\n      <td>34.47</td>\n      <td>75.56</td>\n      <td>92.64</td>\n      <td>29.86</td>\n      <td>32.05</td>\n    </tr>\n    <tr>\n      <th>2014-01-06</th>\n      <td>56.64</td>\n      <td>27.030</td>\n      <td>111.80</td>\n      <td>77.7042</td>\n      <td>50.39</td>\n      <td>69.69</td>\n      <td>39.15</td>\n      <td>80.54</td>\n      <td>58.12</td>\n      <td>49.33</td>\n      <td>...</td>\n      <td>30.37</td>\n      <td>45.42</td>\n      <td>99.66</td>\n      <td>47.90</td>\n      <td>48.36</td>\n      <td>34.41</td>\n      <td>75.50</td>\n      <td>93.24</td>\n      <td>29.65</td>\n      <td>31.98</td>\n    </tr>\n    <tr>\n      <th>2014-01-07</th>\n      <td>57.45</td>\n      <td>26.905</td>\n      <td>113.18</td>\n      <td>77.1481</td>\n      <td>50.49</td>\n      <td>70.45</td>\n      <td>38.85</td>\n      <td>81.52</td>\n      <td>58.97</td>\n      <td>49.59</td>\n      <td>...</td>\n      <td>30.37</td>\n      <td>45.52</td>\n      <td>101.07</td>\n      <td>48.64</td>\n      <td>48.76</td>\n      <td>34.51</td>\n      <td>76.56</td>\n      <td>95.10</td>\n      <td>29.74</td>\n      <td>32.10</td>\n    </tr>\n    <tr>\n      <th>2014-01-08</th>\n      <td>58.39</td>\n      <td>27.630</td>\n      <td>112.30</td>\n      <td>77.6371</td>\n      <td>50.36</td>\n      <td>71.14</td>\n      <td>39.20</td>\n      <td>82.15</td>\n      <td>58.90</td>\n      <td>49.71</td>\n      <td>...</td>\n      <td>30.39</td>\n      <td>45.91</td>\n      <td>100.74</td>\n      <td>48.73</td>\n      <td>48.32</td>\n      <td>34.49</td>\n      <td>76.53</td>\n      <td>97.43</td>\n      <td>30.00</td>\n      <td>31.74</td>\n    </tr>\n  </tbody>\n</table>\n<p>5 rows × 483 columns</p>\n</div>"
     },
     "execution_count": 87,
     "metadata": {},
     "output_type": "execute_result"
    }
   ],
   "source": [
    "# Show the first 5 rows of the dataframe for close price\n",
    "df_all_close.head(5)"
   ]
  },
  {
   "cell_type": "markdown",
   "metadata": {},
   "source": [
    "## Step6: Create a dataframe containing returns\n",
    "#### First, the returns are calculated by subtracting the previous close price from current and dividing by the previous close price.\n",
    "#### Second, Removing the first row and fill the cells with NaN to 0 because the value is not changed in these dates.\n",
    "#### The first five rows of the dataframe are shown below:"
   ]
  },
  {
   "cell_type": "code",
   "execution_count": 88,
   "metadata": {
    "pycharm": {
     "name": "#%%\n"
    }
   },
   "outputs": [
    {
     "data": {
      "text/plain": "Name               A       AAL       AAP      AAPL      ABBV       ABC  \\\ndate                                                                     \n2014-01-03  0.012631  0.046530  0.028613 -0.021966  0.006156  0.000715   \n2014-01-06 -0.004919  0.018463 -0.009568  0.005453 -0.036520 -0.003574   \n2014-01-07  0.014301 -0.004624  0.012343 -0.007157  0.001985  0.010905   \n2014-01-08  0.016362  0.026947 -0.007775  0.006338 -0.002575  0.009794   \n2014-01-09  0.000343  0.064785  0.011131 -0.012772  0.017077  0.003374   \n\nName             ABT       ACN      ADBE       ADI  ...        XL      XLNX  \\\ndate                                                ...                       \n2014-01-03  0.010725  0.003328 -0.002193  0.006696  ... -0.014080 -0.007614   \n2014-01-06  0.013199 -0.010565 -0.017579 -0.005644  ... -0.014281 -0.004384   \n2014-01-07 -0.007663  0.012168  0.014625  0.005271  ...  0.000000  0.002202   \n2014-01-08  0.009009  0.007728 -0.001187  0.002420  ...  0.000659  0.008568   \n2014-01-09  0.001786  0.009738  0.003226 -0.003822  ...  0.000329 -0.002832   \n\nName             XOM      XRAY       XRX       XYL       YUM       ZBH  \\\ndate                                                                     \n2014-01-03 -0.002406  0.004796  0.006717  0.009075  0.006259  0.004337   \n2014-01-06  0.001507 -0.006018  0.008340 -0.001741 -0.000794  0.006477   \n2014-01-07  0.014148  0.015449  0.008271  0.002906  0.014040  0.019949   \n2014-01-08 -0.003265  0.001850 -0.009024 -0.000580 -0.000392  0.024501   \n2014-01-09 -0.009728  0.003694 -0.002483  0.004059 -0.019339 -0.009853   \n\nName            ZION       ZTS  \ndate                            \n2014-01-03  0.007083 -0.009580  \n2014-01-06 -0.007033 -0.002184  \n2014-01-07  0.003035  0.003752  \n2014-01-08  0.008742 -0.011215  \n2014-01-09  0.007333  0.006931  \n\n[5 rows x 483 columns]",
      "text/html": "<div>\n<style scoped>\n    .dataframe tbody tr th:only-of-type {\n        vertical-align: middle;\n    }\n\n    .dataframe tbody tr th {\n        vertical-align: top;\n    }\n\n    .dataframe thead th {\n        text-align: right;\n    }\n</style>\n<table border=\"1\" class=\"dataframe\">\n  <thead>\n    <tr style=\"text-align: right;\">\n      <th>Name</th>\n      <th>A</th>\n      <th>AAL</th>\n      <th>AAP</th>\n      <th>AAPL</th>\n      <th>ABBV</th>\n      <th>ABC</th>\n      <th>ABT</th>\n      <th>ACN</th>\n      <th>ADBE</th>\n      <th>ADI</th>\n      <th>...</th>\n      <th>XL</th>\n      <th>XLNX</th>\n      <th>XOM</th>\n      <th>XRAY</th>\n      <th>XRX</th>\n      <th>XYL</th>\n      <th>YUM</th>\n      <th>ZBH</th>\n      <th>ZION</th>\n      <th>ZTS</th>\n    </tr>\n    <tr>\n      <th>date</th>\n      <th></th>\n      <th></th>\n      <th></th>\n      <th></th>\n      <th></th>\n      <th></th>\n      <th></th>\n      <th></th>\n      <th></th>\n      <th></th>\n      <th></th>\n      <th></th>\n      <th></th>\n      <th></th>\n      <th></th>\n      <th></th>\n      <th></th>\n      <th></th>\n      <th></th>\n      <th></th>\n      <th></th>\n    </tr>\n  </thead>\n  <tbody>\n    <tr>\n      <th>2014-01-03</th>\n      <td>0.012631</td>\n      <td>0.046530</td>\n      <td>0.028613</td>\n      <td>-0.021966</td>\n      <td>0.006156</td>\n      <td>0.000715</td>\n      <td>0.010725</td>\n      <td>0.003328</td>\n      <td>-0.002193</td>\n      <td>0.006696</td>\n      <td>...</td>\n      <td>-0.014080</td>\n      <td>-0.007614</td>\n      <td>-0.002406</td>\n      <td>0.004796</td>\n      <td>0.006717</td>\n      <td>0.009075</td>\n      <td>0.006259</td>\n      <td>0.004337</td>\n      <td>0.007083</td>\n      <td>-0.009580</td>\n    </tr>\n    <tr>\n      <th>2014-01-06</th>\n      <td>-0.004919</td>\n      <td>0.018463</td>\n      <td>-0.009568</td>\n      <td>0.005453</td>\n      <td>-0.036520</td>\n      <td>-0.003574</td>\n      <td>0.013199</td>\n      <td>-0.010565</td>\n      <td>-0.017579</td>\n      <td>-0.005644</td>\n      <td>...</td>\n      <td>-0.014281</td>\n      <td>-0.004384</td>\n      <td>0.001507</td>\n      <td>-0.006018</td>\n      <td>0.008340</td>\n      <td>-0.001741</td>\n      <td>-0.000794</td>\n      <td>0.006477</td>\n      <td>-0.007033</td>\n      <td>-0.002184</td>\n    </tr>\n    <tr>\n      <th>2014-01-07</th>\n      <td>0.014301</td>\n      <td>-0.004624</td>\n      <td>0.012343</td>\n      <td>-0.007157</td>\n      <td>0.001985</td>\n      <td>0.010905</td>\n      <td>-0.007663</td>\n      <td>0.012168</td>\n      <td>0.014625</td>\n      <td>0.005271</td>\n      <td>...</td>\n      <td>0.000000</td>\n      <td>0.002202</td>\n      <td>0.014148</td>\n      <td>0.015449</td>\n      <td>0.008271</td>\n      <td>0.002906</td>\n      <td>0.014040</td>\n      <td>0.019949</td>\n      <td>0.003035</td>\n      <td>0.003752</td>\n    </tr>\n    <tr>\n      <th>2014-01-08</th>\n      <td>0.016362</td>\n      <td>0.026947</td>\n      <td>-0.007775</td>\n      <td>0.006338</td>\n      <td>-0.002575</td>\n      <td>0.009794</td>\n      <td>0.009009</td>\n      <td>0.007728</td>\n      <td>-0.001187</td>\n      <td>0.002420</td>\n      <td>...</td>\n      <td>0.000659</td>\n      <td>0.008568</td>\n      <td>-0.003265</td>\n      <td>0.001850</td>\n      <td>-0.009024</td>\n      <td>-0.000580</td>\n      <td>-0.000392</td>\n      <td>0.024501</td>\n      <td>0.008742</td>\n      <td>-0.011215</td>\n    </tr>\n    <tr>\n      <th>2014-01-09</th>\n      <td>0.000343</td>\n      <td>0.064785</td>\n      <td>0.011131</td>\n      <td>-0.012772</td>\n      <td>0.017077</td>\n      <td>0.003374</td>\n      <td>0.001786</td>\n      <td>0.009738</td>\n      <td>0.003226</td>\n      <td>-0.003822</td>\n      <td>...</td>\n      <td>0.000329</td>\n      <td>-0.002832</td>\n      <td>-0.009728</td>\n      <td>0.003694</td>\n      <td>-0.002483</td>\n      <td>0.004059</td>\n      <td>-0.019339</td>\n      <td>-0.009853</td>\n      <td>0.007333</td>\n      <td>0.006931</td>\n    </tr>\n  </tbody>\n</table>\n<p>5 rows × 483 columns</p>\n</div>"
     },
     "execution_count": 88,
     "metadata": {},
     "output_type": "execute_result"
    }
   ],
   "source": [
    "# calculate return for single name\n",
    "def get_returns(stock):\n",
    "    return (stock - stock.shift(1)) / stock.shift(1)\n",
    "\n",
    "# calculate the return for all names\n",
    "df_returns = df_all_close.apply(get_returns)[1:]\n",
    "\n",
    "# transfer the NaN to 0 because the close price is not available and not change in these date\n",
    "df_returns.fillna(0, inplace=True)\n",
    "\n",
    "df_returns.head(5)"
   ]
  },
  {
   "cell_type": "markdown",
   "metadata": {
    "pycharm": {
     "name": "#%% md\n"
    }
   },
   "source": [
    "## Step7: Use the class sklearn.decomposition.PCA to calculate the principal components"
   ]
  },
  {
   "cell_type": "code",
   "execution_count": 89,
   "metadata": {
    "pycharm": {
     "name": "#%%\n"
    }
   },
   "outputs": [
    {
     "data": {
      "text/plain": "PCA(n_components=483)"
     },
     "execution_count": 89,
     "metadata": {},
     "output_type": "execute_result"
    }
   ],
   "source": [
    "# Use the class sklearn.decomposition.PCA to calculate the principal components of the returns\n",
    "pca = PCA(n_components=len(df_returns.columns))\n",
    "pca.fit(df_returns)"
   ]
  },
  {
   "cell_type": "markdown",
   "metadata": {},
   "source": [
    "## Step8: Extract the explained variance ratios\n",
    "#### There are 483 (stocks) samples in the dataframe and the dimension of each sample is 1007 (dates). Therefore,the max number of components is 483. In this step, we extract the explained variance ratios from the PCA object. Based the value of explained variance ratios, we can find out how important each component is.\n",
    "#### Extracting the first 20 explained variance ratios, then we can see that the first component is the most important one, the value is 0.266108 which is much higher than the others. After that, to determine the elbow point, we can use the elbow method to find out the number of components that is the best. With the external library Knee, we can find out the elbow point by using KneeLocator.\n",
    "#### Finally, let us plot the first 20 explained variance ratios and the elbow point, and we can see that the elbow point is at the index of 2 (the third point). Thus, using the first three components is the best in this case."
   ]
  },
  {
   "cell_type": "code",
   "execution_count": 90,
   "metadata": {
    "pycharm": {
     "name": "#%%\n"
    }
   },
   "outputs": [
    {
     "data": {
      "text/plain": "array([0.26488994, 0.05716809, 0.03401231, 0.02266639, 0.01832904,\n       0.0148591 , 0.01282072, 0.01144004, 0.01095745, 0.01057907,\n       0.00996888, 0.00943521, 0.00852503, 0.00811363, 0.00782795,\n       0.00770922, 0.00730028, 0.00693095, 0.00677864, 0.00655948])"
     },
     "execution_count": 90,
     "metadata": {},
     "output_type": "execute_result"
    }
   ],
   "source": [
    "# Plot the first 20 explained variance ratios\n",
    "variance_ratio = pca.explained_variance_ratio_[:20]\n",
    "variance_ratio"
   ]
  },
  {
   "cell_type": "code",
   "execution_count": 91,
   "metadata": {
    "pycharm": {
     "name": "#%%\n"
    }
   },
   "outputs": [
    {
     "data": {
      "text/plain": "<Figure size 432x288 with 1 Axes>",
      "image/png": "[encoded data removed]"
     },
     "metadata": {
      "needs_background": "light"
     },
     "output_type": "display_data"
    }
   ],
   "source": [
    "# # Identify an elbow and mark it on the plot.\n",
    "x = range(0, len(variance_ratio))\n",
    "kn = KneeLocator(x, variance_ratio, curve='convex', direction='decreasing')\n",
    "\n",
    "x_scale = np.arange(0, len(variance_ratio) , 1)\n",
    "# Plot the variance ratio and mark the elbow\n",
    "plt.axvline(x=kn.knee, color='r', linestyle='--', label='Elbow')\n",
    "plt.xticks(x_scale)\n",
    "# label the first and last point\n",
    "plt.annotate('elbow point',\n",
    "             xy=(kn.knee, variance_ratio[kn.knee]),\n",
    "             xytext=(kn.knee + 1,  variance_ratio[kn.knee] + 0.02),\n",
    "             arrowprops=dict(facecolor='black', shrink=0.05),)\n",
    "# mark the elbow on the plot\n",
    "plt.legend()\n",
    "plt.plot(x, variance_ratio, 'o-')\n",
    "plt.show()"
   ]
  },
  {
   "cell_type": "markdown",
   "metadata": {},
   "source": [
    "## Step9: Calculate the cumulative variance ratios\n",
    "\n",
    "#### First, we calculate the cumulative variance ratios by using the method np.cumsum(). Then, we use np.where() to find the smallest index of the point where the cumsum is equal or greater than 0.95. Thus we can find out that hte index of that point is 253 and the cumulative variance ratio is close to 0.95."
   ]
  },
  {
   "cell_type": "code",
   "execution_count": 92,
   "metadata": {
    "pycharm": {
     "name": "#%%\n"
    }
   },
   "outputs": [
    {
     "data": {
      "text/plain": "<Figure size 432x288 with 1 Axes>",
      "image/png": "[encoded data removed]"
     },
     "metadata": {
      "needs_background": "light"
     },
     "output_type": "display_data"
    }
   ],
   "source": [
    "# Calculate the cumulative variance ratios\n",
    "cum_variance_ratio = np.cumsum(pca.explained_variance_ratio_)\n",
    "# find the index of the element that is first greater than 0.95\n",
    "index_95 = np.where(cum_variance_ratio > 0.95)[0][0]\n",
    "\n",
    "\n",
    "# Mark the x-axis for where the cumulative variance ratio is greater than or equal to 95%.\n",
    "plt.axhline(y=cum_variance_ratio[index_95],\n",
    "            color='grey', linestyle='--', label = cum_variance_ratio[index_95])\n",
    "plt.axvline(x=index_95,\n",
    "            color='r',\n",
    "            linestyle='--',\n",
    "            label=index_95)\n",
    "# Plot all these cumulative variance ratios (x axis = principal component, y axis = cumulative variance ratio)\n",
    "plt.plot(range(len(cum_variance_ratio)), cum_variance_ratio, label= 'cumulative variance ratio')\n",
    "plt.legend()\n",
    "plt.show()"
   ]
  },
  {
   "cell_type": "markdown",
   "source": [
    "## Step10: Normalize Returns df and Repeat PCA\n",
    "#### The function normalize_returns() is used to normalize a single stock returns and whose type is pandas.Series. The function returns a pandas.Series object. Then, we can use the .apply() method to apply the function normalize_returns() to all stocks.\n",
    "#### After applying PCA to the normalized returns, we can find that the first component is still the most important one and the index of elbow point is still 2. However, as the plot of the variance ratio shows, the percentage of the first variance ratio is higher than the first variance without normalization. Also, the second variance ratio is slightly higher than the second one without normalization, but the third is slightly lower than the third one without normalization.\n",
    "#### Finally, in the cumcum plot, we can find the index of first variance ratio where the cumulative variance ratio is greater than or equal to 95% is 284, which is higher than the index of that point without normalization. Thus, normalization may be more helpful for the component whose index is within the range(index of elbow point) .\n"
   ],
   "metadata": {
    "collapsed": false
   }
  },
  {
   "cell_type": "code",
   "execution_count": 93,
   "metadata": {
    "pycharm": {
     "name": "#%%\n"
    }
   },
   "outputs": [
    {
     "data": {
      "text/plain": "PCA(n_components=483)"
     },
     "execution_count": 93,
     "metadata": {},
     "output_type": "execute_result"
    }
   ],
   "source": [
    "def normalize_return(re):\n",
    "    _mean = np.mean(re)\n",
    "    _std = np.std(re)\n",
    "    return (re - _mean) / _std\n",
    "\n",
    "# normalize the df_returns so that the columns have zero mean and unit variance\n",
    "df_returns_norm = df_returns.apply(normalize_return)\n",
    "# PCA on the normalized returns\n",
    "pca_norm = PCA(n_components=len(df_returns_norm.columns))\n",
    "pca_norm.fit(df_returns_norm)"
   ]
  },
  {
   "cell_type": "code",
   "execution_count": 94,
   "metadata": {
    "pycharm": {
     "name": "#%%\n"
    }
   },
   "outputs": [
    {
     "data": {
      "text/plain": "array([0.29299693, 0.05970511, 0.03093814, 0.02029497, 0.01709924,\n       0.01420978, 0.01203742, 0.0106716 , 0.00944169, 0.00836508,\n       0.0080445 , 0.00741292, 0.00693604, 0.00628653, 0.00602242,\n       0.00553163, 0.00525958, 0.00515753, 0.00499232, 0.00481418])"
     },
     "execution_count": 94,
     "metadata": {},
     "output_type": "execute_result"
    }
   ],
   "source": [
    "# Plot the first 20 explained variance ratios\n",
    "variance_ratio_norm = pca_norm.explained_variance_ratio_[:20]\n",
    "variance_ratio_norm"
   ]
  },
  {
   "cell_type": "code",
   "execution_count": 95,
   "metadata": {
    "pycharm": {
     "name": "#%%\n"
    }
   },
   "outputs": [
    {
     "data": {
      "text/plain": "<Figure size 432x288 with 1 Axes>",
      "image/png": "[encoded data removed]"
     },
     "metadata": {
      "needs_background": "light"
     },
     "output_type": "display_data"
    }
   ],
   "source": [
    "x_norm = range(0, len(variance_ratio_norm))\n",
    "kn_norm = KneeLocator(x_norm, variance_ratio_norm, curve='convex', direction='decreasing')\n",
    "\n",
    "# Plot the variance ratio and mark the elbow\n",
    "x_scale_norm = np.arange(0, len(variance_ratio_norm) , 1)\n",
    "\n",
    "plt.axvline(x=kn_norm.knee, color='r', linestyle='--', label='Elbow_norm')\n",
    "plt.xticks(x_scale_norm)\n",
    "plt.annotate('elbow point',\n",
    "             xy=(kn_norm.knee, variance_ratio_norm[kn_norm.knee]),\n",
    "             xytext=(kn_norm.knee + 1,  variance_ratio_norm[kn_norm.knee] + 0.02),\n",
    "             arrowprops=dict(facecolor='black', shrink=0.05),)\n",
    "plt.plot(x_norm, variance_ratio, 'o-', label='PCA')\n",
    "plt.plot(x_scale_norm, variance_ratio_norm, 'o-', label='PCA_norm')\n",
    "plt.legend()\n",
    "plt.show()"
   ]
  },
  {
   "cell_type": "code",
   "execution_count": 96,
   "metadata": {
    "pycharm": {
     "name": "#%%\n"
    }
   },
   "outputs": [
    {
     "data": {
      "text/plain": "<Figure size 432x288 with 1 Axes>",
      "image/png": "[encoded data removed]"
     },
     "metadata": {
      "needs_background": "light"
     },
     "output_type": "display_data"
    }
   ],
   "source": [
    "cum_variance_ratio_norm = np.cumsum(pca_norm.explained_variance_ratio_)\n",
    "index_95_norm = np.where(cum_variance_ratio_norm > 0.95)[0][0]\n",
    "\n",
    "plt.axhline(y=cum_variance_ratio_norm[index_95_norm],\n",
    "            color='grey', linestyle='--', label = cum_variance_ratio_norm[index_95_norm])\n",
    "plt.axvline(x=index_95_norm,\n",
    "            color='r', linestyle='--', label=index_95_norm)\n",
    "plt.plot(range(len(cum_variance_ratio_norm)), cum_variance_ratio, label='cumulative variance ratio')\n",
    "plt.plot(range(len(cum_variance_ratio_norm)), cum_variance_ratio_norm, label='cumulative normalized variance ratio')\n",
    "plt.legend()\n",
    "plt.show()"
   ]
  }
 ],
 "metadata": {
  "kernelspec": {
   "display_name": "Python 3 (ipykernel)",
   "language": "python",
   "name": "python3"
  },
  "language_info": {
   "codemirror_mode": {
    "name": "ipython",
    "version": 3
   },
   "file_extension": ".py",
   "mimetype": "text/x-python",
   "name": "python",
   "nbconvert_exporter": "python",
   "pygments_lexer": "ipython3",
   "version": "3.9.7"
  }
 },
 "nbformat": 4,
 "nbformat_minor": 1
}